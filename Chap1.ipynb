{
  "nbformat": 4,
  "nbformat_minor": 0,
  "metadata": {
    "colab": {
      "name": "Chap1.ipynb",
      "provenance": [],
      "collapsed_sections": []
    },
    "kernelspec": {
      "name": "python3",
      "display_name": "Python 3"
    },
    "language_info": {
      "name": "python"
    }
  },
  "cells": [
    {
      "cell_type": "markdown",
      "source": [
        "## Chap1"
      ],
      "metadata": {
        "id": "QMVbZXvzEXZj"
      }
    },
    {
      "cell_type": "markdown",
      "source": [
        "##運算式,變數與資料型別\n",
        "- 註解"
      ],
      "metadata": {
        "id": "3eIW-kpBpIq_"
      }
    },
    {
      "cell_type": "code",
      "source": [
        "a=3 #單行註解\n",
        "b=5\n",
        "print(a+b)"
      ],
      "metadata": {
        "colab": {
          "base_uri": "https://localhost:8080/"
        },
        "id": "3jVp3q7CTI2K",
        "outputId": "3b1d6543-6558-4796-f464-117dd7ad5d62"
      },
      "execution_count": null,
      "outputs": [
        {
          "output_type": "stream",
          "name": "stdout",
          "text": [
            "8\n"
          ]
        }
      ]
    },
    {
      "cell_type": "code",
      "execution_count": null,
      "metadata": {
        "colab": {
          "base_uri": "https://localhost:8080/"
        },
        "id": "VW_NWgw-o_S4",
        "outputId": "ad177a7a-23f8-4432-ae6e-7cdb3e67ac0b"
      },
      "outputs": [
        {
          "output_type": "execute_result",
          "data": {
            "text/plain": [
              "10"
            ]
          },
          "metadata": {},
          "execution_count": 4
        }
      ],
      "source": [
        "#單行註解\n",
        "'''\n",
        "多行註解1\n",
        "多行註解2\n",
        "'''\n",
        "a=3\n",
        "b=7\n",
        "a+b"
      ]
    },
    {
      "cell_type": "markdown",
      "source": [
        "- 運算式 "
      ],
      "metadata": {
        "id": "VoW3DiGysVu5"
      }
    },
    {
      "cell_type": "code",
      "source": [
        "#變數交換 透過第三變數\n",
        "x=1\n",
        "y=10\n",
        "\n",
        "z=x #z=1\n",
        "x=y #1=10\n",
        "y=z #10=1\n",
        "print (x)\n",
        "print (y)"
      ],
      "metadata": {
        "colab": {
          "base_uri": "https://localhost:8080/"
        },
        "id": "IPBvHhQjpVnG",
        "outputId": "ab5f2796-4149-4b01-a76e-c4d78228d605"
      },
      "execution_count": null,
      "outputs": [
        {
          "output_type": "stream",
          "name": "stdout",
          "text": [
            "10\n",
            "1\n"
          ]
        }
      ]
    },
    {
      "cell_type": "code",
      "source": [
        "#變數交換 不透過第三變數\n",
        "x=1\n",
        "y=10\n",
        "\n",
        "x=x+y #x=1+10=11\n",
        "y=x-y #y=11-10=1\n",
        "x=x-y #x=11-1=10\n",
        "print(x,y)"
      ],
      "metadata": {
        "colab": {
          "base_uri": "https://localhost:8080/"
        },
        "id": "0gbxhelHtzep",
        "outputId": "5b9f35e0-f766-4182-8317-aa6c12703c59"
      },
      "execution_count": null,
      "outputs": [
        {
          "output_type": "stream",
          "name": "stdout",
          "text": [
            "10 1\n"
          ]
        }
      ]
    },
    {
      "cell_type": "code",
      "source": [
        "#python版變數交換\n",
        "x=1\n",
        "y=10\n",
        "x,y=y,x #1,10=10,1\n",
        "print(x,y)"
      ],
      "metadata": {
        "id": "vbzoefr0vEYx",
        "colab": {
          "base_uri": "https://localhost:8080/"
        },
        "outputId": "b6b7c7f8-a097-471a-df72-5b7d64b0c0fc"
      },
      "execution_count": null,
      "outputs": [
        {
          "output_type": "stream",
          "name": "stdout",
          "text": [
            "10 1\n"
          ]
        }
      ]
    },
    {
      "cell_type": "markdown",
      "source": [
        "##變數\n",
        "變數的平行設定\n"
      ],
      "metadata": {
        "id": "GriEeRxJU2tD"
      }
    },
    {
      "cell_type": "code",
      "source": [
        "#變數平行設定\n",
        "x,y,z=3,4,5\n",
        "print(x,y,z)"
      ],
      "metadata": {
        "colab": {
          "base_uri": "https://localhost:8080/"
        },
        "id": "ji2uVDaWvwsW",
        "outputId": "ab31c0ed-c48f-4e19-9e50-a84de91d934c"
      },
      "execution_count": null,
      "outputs": [
        {
          "output_type": "stream",
          "name": "stdout",
          "text": [
            "3 4 5\n"
          ]
        }
      ]
    },
    {
      "cell_type": "code",
      "source": [
        "x,y,z=3,4,5\n",
        "x+=1 #x=x+1 #x=3+1=4\n",
        "y*=2 #y=y*2 #y=4*2=8\n",
        "z**=3 #z=z^3 #z=5^3=125 #5^3=5*5*5\n",
        "print(x,y,z)"
      ],
      "metadata": {
        "colab": {
          "base_uri": "https://localhost:8080/"
        },
        "id": "8pFovMure0wW",
        "outputId": "eb6c144a-7f32-4367-fb9c-90a5d0c99aba"
      },
      "execution_count": null,
      "outputs": [
        {
          "output_type": "stream",
          "name": "stdout",
          "text": [
            "4 8 125\n"
          ]
        }
      ]
    },
    {
      "cell_type": "markdown",
      "source": [
        "變數的應用\n"
      ],
      "metadata": {
        "id": "7XSKaZCLWkAh"
      }
    },
    {
      "cell_type": "markdown",
      "source": [
        "Q：邊長為3, 4, 5的三角形，其面積大小為何?\n",
        "\n",
        "海龍公式：\n",
        "\n",
        "s=(a+b+c)/2\n",
        "\n",
        "sqrt(s(s-a)(s-b)(s-c))"
      ],
      "metadata": {
        "id": "f5lY9P6RWrvg"
      }
    },
    {
      "cell_type": "code",
      "source": [
        "import math\n",
        "a,b,c=3,4,5\n",
        "s=(a+b+c)/2 \n",
        "d=math.sqrt(s*(s-a)*(s-b)*(s-c)) #math.sqrt()求平方根\n",
        "print(d)"
      ],
      "metadata": {
        "colab": {
          "base_uri": "https://localhost:8080/"
        },
        "id": "Y6NOa_eXXQxx",
        "outputId": "6d0fc57b-e8b4-4ce9-98fa-9b5abff67f6a"
      },
      "execution_count": null,
      "outputs": [
        {
          "output_type": "stream",
          "name": "stdout",
          "text": [
            "6.0\n"
          ]
        }
      ]
    },
    {
      "cell_type": "markdown",
      "source": [
        "Q：半徑為10的圓形，其面積大小為何?"
      ],
      "metadata": {
        "id": "PuSMFzGSXaoy"
      }
    },
    {
      "cell_type": "code",
      "source": [
        "import math\n",
        "r=10        #半徑=10\n",
        "print(r*r*math.pi) #math.pi面積公式"
      ],
      "metadata": {
        "colab": {
          "base_uri": "https://localhost:8080/"
        },
        "id": "0sLj5H6piNYG",
        "outputId": "f8377b76-e3d8-43fe-846a-43379ff86deb"
      },
      "execution_count": null,
      "outputs": [
        {
          "output_type": "stream",
          "name": "stdout",
          "text": [
            "314.1592653589793\n"
          ]
        }
      ]
    },
    {
      "cell_type": "code",
      "source": [
        "import math\n",
        "r=eval(input(\"請輸入圓的半徑:\")) #eval()將字串進行數值運算 浮點數floot可輸入小數\n",
        "print(r*r*math.pi) #math.pi面積公式"
      ],
      "metadata": {
        "colab": {
          "base_uri": "https://localhost:8080/"
        },
        "id": "9QoylZ1DkZTk",
        "outputId": "745bc935-50f4-4407-9179-da3b816cbaf5"
      },
      "execution_count": null,
      "outputs": [
        {
          "output_type": "stream",
          "name": "stdout",
          "text": [
            "請輸入圓的半徑:10\n",
            "314.1592653589793\n"
          ]
        }
      ]
    },
    {
      "cell_type": "markdown",
      "source": [
        "#資料型別\n",
        "python屬於動態類型變數，使用前不需要宣告資料型態"
      ],
      "metadata": {
        "id": "dPraoo6DqurC"
      }
    },
    {
      "cell_type": "code",
      "source": [
        "x=254 #int整數\n",
        "y=254.0 #float浮點數\n",
        "z=\"write\" #string字串\n",
        "print(type(x)) #type查詢變數的資料型態\n",
        "print(type(y))\n",
        "print(type(z))\n",
        "print(type(x==y)) #布林值 "
      ],
      "metadata": {
        "colab": {
          "base_uri": "https://localhost:8080/"
        },
        "id": "0F7UsaFRrIWw",
        "outputId": "20dbb46c-e58a-4146-c414-8a37aff30f4b"
      },
      "execution_count": null,
      "outputs": [
        {
          "output_type": "stream",
          "name": "stdout",
          "text": [
            "<class 'int'>\n",
            "<class 'float'>\n",
            "<class 'str'>\n",
            "<class 'bool'>\n"
          ]
        }
      ]
    },
    {
      "cell_type": "markdown",
      "source": [
        "#算術符號"
      ],
      "metadata": {
        "id": "-nQXG0PZs4CS"
      }
    },
    {
      "cell_type": "code",
      "source": [
        "x=10\n",
        "y=3\n",
        "print(x/y)\n",
        "print(x//y) #取商\n",
        "print(x%y) #取餘數"
      ],
      "metadata": {
        "colab": {
          "base_uri": "https://localhost:8080/"
        },
        "id": "2ptBiU_wtBsI",
        "outputId": "d0b884b5-4099-49e8-ccb3-7a5d69ae80e0"
      },
      "execution_count": null,
      "outputs": [
        {
          "output_type": "stream",
          "name": "stdout",
          "text": [
            "3.3333333333333335\n",
            "3\n",
            "1\n"
          ]
        }
      ]
    },
    {
      "cell_type": "markdown",
      "source": [
        "#算術符號的順序\n",
        "()括號>**次方>*/乘除>+-加減"
      ],
      "metadata": {
        "id": "zI_Or_czuuNB"
      }
    },
    {
      "cell_type": "code",
      "source": [
        "x=(5*(1+2)**2-3+4/2) #()括號>**次方>*/乘除>+-加減\n",
        "print(x)"
      ],
      "metadata": {
        "colab": {
          "base_uri": "https://localhost:8080/"
        },
        "id": "_RDwOe7FvE-Y",
        "outputId": "9a5ae8c9-f86f-4c5d-80d1-eaba732c682c"
      },
      "execution_count": null,
      "outputs": [
        {
          "output_type": "stream",
          "name": "stdout",
          "text": [
            "44.0\n"
          ]
        }
      ]
    },
    {
      "cell_type": "markdown",
      "source": [
        "##型別轉換"
      ],
      "metadata": {
        "id": "yRo66sTEmvge"
      }
    },
    {
      "cell_type": "code",
      "source": [
        "x=\"must\" #str字串\n",
        "print(type(x))\n",
        "y=10 #int整數\n",
        "print(type(y))\n",
        "print(10*y) #10*10\n",
        "print(10*x) #10*must\n",
        "z=\"10\" #str字串\n",
        "print(10*z) #10*str10\n",
        "print(10*int(z)) #int(z)轉換型別 轉int\n",
        "print(10*float(z)) #float(z)轉換型別 轉float\n",
        "print(10*str(y)) #str(y)轉換型別 轉str\n",
        "print(10*eval(\"5*2\")) #eval() 函數計算表達式5*2並且print用於顯示該值"
      ],
      "metadata": {
        "colab": {
          "base_uri": "https://localhost:8080/"
        },
        "id": "r8zJ7JStmj3A",
        "outputId": "12ae3ccd-cec3-4c99-87df-3186bec6ce7d"
      },
      "execution_count": null,
      "outputs": [
        {
          "output_type": "stream",
          "name": "stdout",
          "text": [
            "<class 'str'>\n",
            "<class 'int'>\n",
            "100\n",
            "mustmustmustmustmustmustmustmustmustmust\n",
            "10101010101010101010\n",
            "100\n",
            "100.0\n",
            "10101010101010101010\n",
            "100\n"
          ]
        }
      ]
    },
    {
      "cell_type": "markdown",
      "source": [
        "##print的三種方式\n",
        " - 透過，區隔要列印的變數eg:print(\"This\",\"is\",\"a\",\"book\")\n",
        " - 利用字串的str.format()(新式)\n",
        " - %格式化輸入字串符(舊式)\n"
      ],
      "metadata": {
        "id": "j5Vn8SNLx7Dq"
      }
    },
    {
      "cell_type": "code",
      "source": [
        "a=\"This\"+\"is\"+\"a\"+\"book\"\n",
        "print(a)\n",
        "#Thisisabook\n",
        "print(\"This\",\"is\",\"a\",\"book\")\n",
        "#This is a book"
      ],
      "metadata": {
        "colab": {
          "base_uri": "https://localhost:8080/"
        },
        "id": "0aDKNoYkyjkA",
        "outputId": "f062ef2c-c07b-4821-ef38-c675160b5a4d"
      },
      "execution_count": null,
      "outputs": [
        {
          "output_type": "stream",
          "name": "stdout",
          "text": [
            "Thisisabook\n",
            "This is a book\n"
          ]
        }
      ]
    },
    {
      "cell_type": "markdown",
      "source": [
        "- 利用字串str.format(),在()中替代變數的位置\n",
        "- eg.print(\"This{}a book\".format(\"is\")\n",
        "- {}中可以設定格式"
      ],
      "metadata": {
        "id": "GqPiq2J9v-J5"
      }
    }
  ]
}