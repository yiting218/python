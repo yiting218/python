{
  "nbformat": 4,
  "nbformat_minor": 0,
  "metadata": {
    "colab": {
      "name": "Chap6.ipynb",
      "provenance": [],
      "collapsed_sections": []
    },
    "kernelspec": {
      "name": "python3",
      "display_name": "Python 3"
    },
    "language_info": {
      "name": "python"
    }
  },
  "cells": [
    {
      "cell_type": "markdown",
      "source": [
        "##Chap6\n",
        "- os套件:用來處理目錄與文件，以及檔案的讀寫"
      ],
      "metadata": {
        "id": "apz7Ud778lk3"
      }
    },
    {
      "cell_type": "code",
      "execution_count": null,
      "metadata": {
        "colab": {
          "base_uri": "https://localhost:8080/",
          "height": 35
        },
        "id": "ZWYa2iuD7l6F",
        "outputId": "8b30d310-15f2-4cb7-c58b-78bfe7e7d439"
      },
      "outputs": [
        {
          "output_type": "execute_result",
          "data": {
            "text/plain": [
              "'/content'"
            ],
            "application/vnd.google.colaboratory.intrinsic+json": {
              "type": "string"
            }
          },
          "metadata": {},
          "execution_count": 8
        }
      ],
      "source": [
        "import os\n",
        "os.getcwd() #回傳目前的工作目錄"
      ]
    },
    {
      "cell_type": "code",
      "source": [
        "os.listdir(\".\") #列出目錄下所有的檔案"
      ],
      "metadata": {
        "colab": {
          "base_uri": "https://localhost:8080/"
        },
        "id": "hdoAVW6s-OA2",
        "outputId": "c54593a7-7ac2-4150-b9d4-7e2ce97e3630"
      },
      "execution_count": null,
      "outputs": [
        {
          "output_type": "execute_result",
          "data": {
            "text/plain": [
              "['.config', 'a.txt', 'sample_data']"
            ]
          },
          "metadata": {},
          "execution_count": 9
        }
      ]
    },
    {
      "cell_type": "code",
      "source": [
        "os.makedirs(\"test\") #新增test目錄\n",
        "os.listdir(\".\")"
      ],
      "metadata": {
        "colab": {
          "base_uri": "https://localhost:8080/"
        },
        "id": "Y9wSao4M-ZkW",
        "outputId": "0ae6f9d7-3baf-4856-b206-79f4641221b0"
      },
      "execution_count": null,
      "outputs": [
        {
          "output_type": "execute_result",
          "data": {
            "text/plain": [
              "['.config', 'test', 'a.txt', 'sample_data']"
            ]
          },
          "metadata": {},
          "execution_count": 10
        }
      ]
    },
    {
      "cell_type": "code",
      "source": [
        "os.rmdir(\"test\") #移除test目錄\n",
        "os.listdir(\".\")"
      ],
      "metadata": {
        "colab": {
          "base_uri": "https://localhost:8080/"
        },
        "id": "W5ShAhmd-orF",
        "outputId": "3e350a29-1952-4087-da68-6a7aef4d6113"
      },
      "execution_count": null,
      "outputs": [
        {
          "output_type": "execute_result",
          "data": {
            "text/plain": [
              "['.config', 'a.txt', 'sample_data']"
            ]
          },
          "metadata": {},
          "execution_count": 11
        }
      ]
    },
    {
      "cell_type": "markdown",
      "source": [
        "##檔案處理\n",
        "os套件有自己處理檔案的函式os.open\n",
        "- w = 可寫(預設建立檔案) 若檔案存在則會清除舊檔案\n",
        "- w+ = 可寫可讀(預設建立檔案) 若檔案存在則會清除舊檔案\n",
        "- r = 可讀\n",
        "- r+ = 可寫可讀 但寫入資料指向開頭\n",
        "- a = 可寫不能讀 寫入資料指向尾端\n",
        "- a+ = 可寫可讀 寫入資料指向尾端\n",
        "- b = 轉為2進位文件\n",
        "- ab+ = 2進位文件的讀寫 寫入資料指向尾端"
      ],
      "metadata": {
        "id": "zIWEa25OCrnu"
      }
    },
    {
      "cell_type": "markdown",
      "source": [
        "新增檔案"
      ],
      "metadata": {
        "id": "JZBOO2K2aQiQ"
      }
    },
    {
      "cell_type": "code",
      "source": [
        "a=open(\"a.txt\",\"w\") #新增檔案 #w可寫，若檔案存在則會清除舊檔案\n",
        "a.write(\"This is line1\") \n",
        "a.write(\"This is line2\\n\") #\\n換行\n",
        "a.write(\"This is line3\\n\")\n",
        "a.close() #關閉檔案"
      ],
      "metadata": {
        "id": "F7luw8N-CPb-"
      },
      "execution_count": null,
      "outputs": []
    },
    {
      "cell_type": "markdown",
      "source": [
        "檢查檔案是否存在"
      ],
      "metadata": {
        "id": "BvjofI13aWPl"
      }
    },
    {
      "cell_type": "code",
      "source": [
        "os.path.isfile(\"a.txt\") #isfile檢查檔案是否存在"
      ],
      "metadata": {
        "colab": {
          "base_uri": "https://localhost:8080/"
        },
        "id": "tFcuSSdKEkHn",
        "outputId": "7231c1bd-0c91-4ad6-caa1-956a2e33c446"
      },
      "execution_count": null,
      "outputs": [
        {
          "output_type": "execute_result",
          "data": {
            "text/plain": [
              "True"
            ]
          },
          "metadata": {},
          "execution_count": 13
        }
      ]
    },
    {
      "cell_type": "markdown",
      "source": [
        "讀取檔案"
      ],
      "metadata": {
        "id": "bPdHs5AgabQP"
      }
    },
    {
      "cell_type": "code",
      "source": [
        "a=open(\"a.txt\",\"r\") #新增檔案 #r可讀\n",
        "print(a.readline())\n",
        "print(a.readline())\n",
        "print(a.readline()) #多餘的命令，檔案只有2行\n",
        "a.close()"
      ],
      "metadata": {
        "colab": {
          "base_uri": "https://localhost:8080/"
        },
        "id": "BafSkFUjahZ3",
        "outputId": "330e3f44-2b8c-4b68-da78-b4f0756980e0"
      },
      "execution_count": null,
      "outputs": [
        {
          "output_type": "stream",
          "name": "stdout",
          "text": [
            "This is line1This is line2\n",
            "\n",
            "This is line3\n",
            "\n",
            "\n"
          ]
        }
      ]
    },
    {
      "cell_type": "code",
      "source": [
        "a=open(\"a.txt\",\"r\")\n",
        "print(a.readlines()) #一次讀取多行，與a.read()命令相同\n",
        "a.close()"
      ],
      "metadata": {
        "colab": {
          "base_uri": "https://localhost:8080/"
        },
        "id": "TBdSm3wlEtC9",
        "outputId": "9e2f3d8f-0039-4df0-d1fe-e996bac10654"
      },
      "execution_count": null,
      "outputs": [
        {
          "output_type": "stream",
          "name": "stdout",
          "text": [
            "['This is line1This is line2\\n', 'This is line3\\n']\n"
          ]
        }
      ]
    },
    {
      "cell_type": "code",
      "source": [
        "#加上檔案是否存在的判斷\n",
        "if os.path.isfile(\"a.txt\"): #如果檔案存在\n",
        "  a=open(\"a.txt\",\"r\") #就讀取檔案\n",
        "  print(a.readlines()) #並列印出來\n",
        "  a.close()\n",
        "else: #如果檔案不存在\n",
        "  print(\"檔案不存在\") #就顯示檔案不存在"
      ],
      "metadata": {
        "colab": {
          "base_uri": "https://localhost:8080/"
        },
        "id": "1xzMKtD9E5TE",
        "outputId": "f318cd25-37a5-4a05-f6ff-ec13882cb589"
      },
      "execution_count": null,
      "outputs": [
        {
          "output_type": "stream",
          "name": "stdout",
          "text": [
            "['This is line1This is line2\\n', 'This is line3\\n']\n"
          ]
        }
      ]
    },
    {
      "cell_type": "markdown",
      "source": [
        "#split函式"
      ],
      "metadata": {
        "id": "7LP5IOpAa333"
      }
    },
    {
      "cell_type": "code",
      "source": [
        "if os.path.isfile(\"a.txt\"):\n",
        "    a=open(\"a.txt\",\"r\")\n",
        "    for line in a:\n",
        "        fields=line.split(\" \") #以空白為切割欄位 #split字串分割\n",
        "        print(fields)\n",
        "    a.close()\n",
        "else:\n",
        "    print(\"檔案不存在\")    "
      ],
      "metadata": {
        "colab": {
          "base_uri": "https://localhost:8080/"
        },
        "id": "36R2WEvNa3fR",
        "outputId": "331e2db3-cf7e-44f0-e402-0eac523f56cb"
      },
      "execution_count": null,
      "outputs": [
        {
          "output_type": "stream",
          "name": "stdout",
          "text": [
            "['This', 'is', 'line1This', 'is', 'line2\\n']\n",
            "['This', 'is', 'line3\\n']\n"
          ]
        }
      ]
    },
    {
      "cell_type": "markdown",
      "source": [
        "##附加檔案"
      ],
      "metadata": {
        "id": "9U0vYCbPJEeN"
      }
    },
    {
      "cell_type": "code",
      "source": [
        "a=open(\"a.txt\",\"a\") #參數\"a\"會把寫入的資訊附加在檔案尾巴\n",
        "a.write(\"This is line4\\n\")\n",
        "a.close()"
      ],
      "metadata": {
        "id": "ytqjp01FJJQd"
      },
      "execution_count": null,
      "outputs": []
    },
    {
      "cell_type": "code",
      "source": [
        "a=open(\"a.txt\",\"r\") #把加入後的檔案讀取出來\n",
        "print(a.readlines())\n",
        "a.close()"
      ],
      "metadata": {
        "colab": {
          "base_uri": "https://localhost:8080/"
        },
        "id": "hAm295u-JfHe",
        "outputId": "6938fc78-6629-48fb-9fc5-ebdbff4288b8"
      },
      "execution_count": null,
      "outputs": [
        {
          "output_type": "stream",
          "name": "stdout",
          "text": [
            "['This is line1This is line2\\n', 'This is line3\\n', 'This is line4\\n']\n"
          ]
        }
      ]
    },
    {
      "cell_type": "markdown",
      "source": [
        "#比較a與r+的不同\n",
        "- a寫在檔案的結尾\n",
        "- r+寫在檔案的開頭"
      ],
      "metadata": {
        "id": "cY_PXZxObPaJ"
      }
    },
    {
      "cell_type": "code",
      "source": [
        "a=open(\"a.txt\",\"r+\") #參數\"a\"會把寫入的資訊附加在檔案開頭\n",
        "a.write(\"This is line5\\n\")\n",
        "a.close()"
      ],
      "metadata": {
        "id": "pKw27K-LJ5tG"
      },
      "execution_count": null,
      "outputs": []
    },
    {
      "cell_type": "code",
      "source": [
        "a=open(\"a.txt\",\"r\") #把加入後的檔案讀取出來\n",
        "print(a.readlines())\n",
        "a.close()"
      ],
      "metadata": {
        "colab": {
          "base_uri": "https://localhost:8080/"
        },
        "id": "imoFCOQiKE3d",
        "outputId": "e1f87819-4c78-4c3b-917f-6c8ac367b964"
      },
      "execution_count": null,
      "outputs": [
        {
          "output_type": "stream",
          "name": "stdout",
          "text": [
            "['This is line5\\n', 'his is line2\\n', 'This is line3\\n', 'This is line4\\n', 'This is line4\\n']\n"
          ]
        }
      ]
    },
    {
      "cell_type": "markdown",
      "source": [
        "#刪除檔案"
      ],
      "metadata": {
        "id": "1YyZerVObXPW"
      }
    },
    {
      "cell_type": "code",
      "source": [
        "if os.path.isfile(\"a.txt\"): #如果檔案存在\n",
        "    os.remove(\"a.txt\") #remove移除檔案\n",
        "    print(\"檔案刪除成功\") #顯示檔案刪除成功\n",
        "else: #如果檔案不存在\n",
        "    print(\"找不到檔案\") #則顯示找不到檔案\n",
        "print(os.path.isfile(\"a.txt\")) #檢查檔案是否存在"
      ],
      "metadata": {
        "colab": {
          "base_uri": "https://localhost:8080/"
        },
        "id": "FW0oufFibZJP",
        "outputId": "123df5b3-6957-4165-8eb1-2302ff7cf276"
      },
      "execution_count": null,
      "outputs": [
        {
          "output_type": "stream",
          "name": "stdout",
          "text": [
            "檔案刪除成功\n",
            "False\n"
          ]
        }
      ]
    }
  ]
}