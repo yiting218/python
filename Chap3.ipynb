{
  "nbformat": 4,
  "nbformat_minor": 0,
  "metadata": {
    "colab": {
      "name": "Chap3.ipynb",
      "provenance": [],
      "collapsed_sections": [],
      "authorship_tag": "ABX9TyMpeQdIaflyaaeWwdiU7E+G",
      "include_colab_link": true
    },
    "kernelspec": {
      "name": "python3",
      "display_name": "Python 3"
    },
    "language_info": {
      "name": "python"
    }
  },
  "cells": [
    {
      "cell_type": "markdown",
      "metadata": {
        "id": "view-in-github",
        "colab_type": "text"
      },
      "source": [
        "<a href=\"https://colab.research.google.com/github/yiting218/python/blob/main/Chap3.ipynb\" target=\"_parent\"><img src=\"https://colab.research.google.com/assets/colab-badge.svg\" alt=\"Open In Colab\"/></a>"
      ]
    },
    {
      "cell_type": "markdown",
      "source": [
        "##Python物件\n",
        "List[串列] Tuple(元件) Dictionary(字典) Sets(集合)"
      ],
      "metadata": {
        "id": "8d6TefMp5RAu"
      }
    },
    {
      "cell_type": "markdown",
      "source": [
        "##List[串列]\n",
        "使用中括號[]包裹元素"
      ],
      "metadata": {
        "id": "V1SpTZyV5qLk"
      }
    },
    {
      "cell_type": "code",
      "source": [
        "expenses=[1138, 101, 12, 300, 2049]\n",
        "print(sum(expenses)) #sum總和所有數字"
      ],
      "metadata": {
        "colab": {
          "base_uri": "https://localhost:8080/"
        },
        "id": "NFu7G1n7YdNX",
        "outputId": "38a12d92-78d3-41f3-828b-8cfe3fe75668"
      },
      "execution_count": null,
      "outputs": [
        {
          "output_type": "stream",
          "name": "stdout",
          "text": [
            "3600\n"
          ]
        }
      ]
    },
    {
      "cell_type": "markdown",
      "source": [
        "索引"
      ],
      "metadata": {
        "id": "5OXr0iLBYZDB"
      }
    },
    {
      "cell_type": "code",
      "execution_count": null,
      "metadata": {
        "colab": {
          "base_uri": "https://localhost:8080/"
        },
        "id": "V2uq1-JZ5N4N",
        "outputId": "0220b736-4c5e-4215-e28c-982a3a80afdb"
      },
      "outputs": [
        {
          "output_type": "stream",
          "name": "stdout",
          "text": [
            "90\n",
            "70\n",
            "95\n",
            "95\n"
          ]
        }
      ],
      "source": [
        "#List[串列]\n",
        "score=[90,70,80,88,95]\n",
        "print(score[0]) #索引從0開始\n",
        "print(score[1])\n",
        "print(score[4])\n",
        "print(score[-1]) #-1從最後面數過來第一個"
      ]
    },
    {
      "cell_type": "code",
      "source": [
        "my_list0=[] #空串列\n",
        "my_list1=list() \n",
        "my_list2=['python', 'javascript', 'C#']\n",
        "print(my_list2[0]) #索引從0開始"
      ],
      "metadata": {
        "colab": {
          "base_uri": "https://localhost:8080/"
        },
        "id": "KiLLwGf9Yk0o",
        "outputId": "9248df62-92a7-4789-b16f-14a0773cadfd"
      },
      "execution_count": null,
      "outputs": [
        {
          "output_type": "stream",
          "name": "stdout",
          "text": [
            "python\n"
          ]
        }
      ]
    },
    {
      "cell_type": "code",
      "source": [
        "score=[90,70,80,88,95]\n",
        "print(score[0:3]) #從第0位開始到第3位\n",
        "print(score[:3]) #從第0位開始到第3位\n",
        "print(score[3:]) #從第3位開始到最後一位\n",
        "print(score[:]) #取全部值"
      ],
      "metadata": {
        "colab": {
          "base_uri": "https://localhost:8080/"
        },
        "id": "wSV8OdQrBkZF",
        "outputId": "52e4b689-e927-4070-d367-27ad8c558bc8"
      },
      "execution_count": null,
      "outputs": [
        {
          "output_type": "stream",
          "name": "stdout",
          "text": [
            "[90, 70, 80]\n",
            "[90, 70, 80]\n",
            "[88, 95]\n",
            "[90, 70, 80, 88, 95]\n"
          ]
        }
      ]
    },
    {
      "cell_type": "code",
      "source": [
        "score=[90,70,80,88,95]\n",
        "print(score[0:5:2]) #從第0位開始到第5位，間隔2取值\n",
        "print(score[::2]) #取全部值，間隔2取值\n",
        "print(score[4:0:-1]) #從第4位開始到第0位，從後面開始取值\n",
        "print(score[0:4:-1]) #從第0位開始到第4位，從後面開始取值，因為從第0位開始，所以不會有值"
      ],
      "metadata": {
        "colab": {
          "base_uri": "https://localhost:8080/"
        },
        "id": "qWPocjbVD4IV",
        "outputId": "a9c4f120-9b75-422d-da24-815ac55b2083"
      },
      "execution_count": null,
      "outputs": [
        {
          "output_type": "stream",
          "name": "stdout",
          "text": [
            "[90, 80, 95]\n",
            "[90, 80, 95]\n",
            "[95, 88, 80, 70]\n",
            "[]\n"
          ]
        }
      ]
    },
    {
      "cell_type": "code",
      "source": [
        "astr=\"abcdefghijklmnopqrstuvwxyz\"\n",
        "print(astr[0]) #索引從0開始\n",
        "print(astr[-1]) #-1從最後面數過來第一個\n",
        "print(astr[5:20]) #從第5位開始到第20位\n",
        "print(astr[5:20:3]) #從第5位開始到第20位，間隔3取值"
      ],
      "metadata": {
        "colab": {
          "base_uri": "https://localhost:8080/"
        },
        "id": "cQG87jKMFpZk",
        "outputId": "bec794d1-a62c-4ff9-cb33-dbc6ba4ebe56"
      },
      "execution_count": null,
      "outputs": [
        {
          "output_type": "stream",
          "name": "stdout",
          "text": [
            "a\n",
            "z\n",
            "fghijklmnopqrst\n",
            "filor\n"
          ]
        }
      ]
    },
    {
      "cell_type": "code",
      "source": [
        "#空集合\n",
        "my_list0=[]\n",
        "print(my_list0)\n",
        "my_list1=list()\n",
        "print(my_list1)\n",
        "my_list2=['python','javascript','c#']\n",
        "print(my_list2)\n",
        "print(my_list2[0])"
      ],
      "metadata": {
        "colab": {
          "base_uri": "https://localhost:8080/"
        },
        "id": "fGz6797t8uvx",
        "outputId": "7a78ebe1-8627-45e1-ccae-1884c0ba93d9"
      },
      "execution_count": null,
      "outputs": [
        {
          "output_type": "stream",
          "name": "stdout",
          "text": [
            "[]\n",
            "[]\n",
            "['python', 'javascript', 'c#']\n",
            "python\n"
          ]
        }
      ]
    },
    {
      "cell_type": "code",
      "source": [
        "my_list2=['python','javascript','c#']\n",
        "print(len(my_list2))\n",
        "my_list2.append('java') #附加在最後\n",
        "print(my_list2)\n",
        "my_list2.remove('java') #刪除\n",
        "print(my_list2)\n",
        "my_list2.insert(1,'java') #插入到某個位置\n",
        "print(my_list2)"
      ],
      "metadata": {
        "colab": {
          "base_uri": "https://localhost:8080/"
        },
        "id": "cgk4F_wF_b6C",
        "outputId": "d59a3a2c-f113-4fa6-9a17-714a6d852840"
      },
      "execution_count": null,
      "outputs": [
        {
          "output_type": "stream",
          "name": "stdout",
          "text": [
            "3\n",
            "['python', 'javascript', 'c#', 'java']\n",
            "['python', 'javascript', 'c#']\n",
            "['python', 'java', 'javascript', 'c#']\n"
          ]
        }
      ]
    },
    {
      "cell_type": "markdown",
      "source": [
        "#list的長度"
      ],
      "metadata": {
        "id": "wRI3liqqp5qq"
      }
    },
    {
      "cell_type": "code",
      "source": [
        "my_list2 = ['python', 'javascript', 'C#']\n",
        "print(len(my_list2))\n",
        "print(len(my_list2[0]))"
      ],
      "metadata": {
        "id": "S77evBjrDtRs",
        "colab": {
          "base_uri": "https://localhost:8080/"
        },
        "outputId": "7dfaddee-efbe-4768-b477-ce90ec7e295b"
      },
      "execution_count": 1,
      "outputs": [
        {
          "output_type": "stream",
          "name": "stdout",
          "text": [
            "3\n",
            "6\n"
          ]
        }
      ]
    },
    {
      "cell_type": "markdown",
      "source": [
        "附加"
      ],
      "metadata": {
        "id": "wWMpvKZyqAx_"
      }
    },
    {
      "cell_type": "code",
      "source": [
        "my_list2 = ['python', 'javascript', 'C#']\n",
        "my_list2.append('java') #append會附加在最後面\n",
        "print(my_list2)"
      ],
      "metadata": {
        "colab": {
          "base_uri": "https://localhost:8080/"
        },
        "id": "VbKpubuNqBeH",
        "outputId": "2b34d6ba-8612-4ee8-d34e-917ee74f4dab"
      },
      "execution_count": 2,
      "outputs": [
        {
          "output_type": "stream",
          "name": "stdout",
          "text": [
            "['python', 'javascript', 'C#', 'java']\n"
          ]
        }
      ]
    },
    {
      "cell_type": "code",
      "source": [
        "my_list2 = ['python', 'javascript', 'C#']\n",
        "my_list2.insert(1,'java') #insert將指定對象插入指定位置\n",
        "print(my_list2)"
      ],
      "metadata": {
        "colab": {
          "base_uri": "https://localhost:8080/"
        },
        "id": "5Y0KAIHzqEt2",
        "outputId": "885b0d62-27e2-44ab-d4ab-3f946ade410e"
      },
      "execution_count": 3,
      "outputs": [
        {
          "output_type": "stream",
          "name": "stdout",
          "text": [
            "['python', 'java', 'javascript', 'C#']\n"
          ]
        }
      ]
    },
    {
      "cell_type": "markdown",
      "source": [
        "刪除"
      ],
      "metadata": {
        "id": "lzlc2K3zqHI_"
      }
    },
    {
      "cell_type": "code",
      "source": [
        "my_list2 = ['python', 'javascript', 'C#']\n",
        "my_list2.remove('python') #移除指定元素\n",
        "print(my_list2)\n",
        "del my_list2[-1] #刪除指定位置的元素 #倒數第一個\n",
        "print(my_list2)\n",
        "my_list2.clear() #清除全部\n",
        "print(my_list2)"
      ],
      "metadata": {
        "colab": {
          "base_uri": "https://localhost:8080/"
        },
        "id": "Lcq5vORLqH2_",
        "outputId": "12cd78a0-cead-4f10-9d0d-967bc7002b1a"
      },
      "execution_count": 4,
      "outputs": [
        {
          "output_type": "stream",
          "name": "stdout",
          "text": [
            "['javascript', 'C#']\n",
            "['javascript']\n",
            "[]\n"
          ]
        }
      ]
    },
    {
      "cell_type": "code",
      "source": [
        "a=[1,2]\n",
        "print(a*5) #a乘5次"
      ],
      "metadata": {
        "colab": {
          "base_uri": "https://localhost:8080/"
        },
        "id": "Guh662c7qLE4",
        "outputId": "3289f96b-d88e-4f44-f002-46f468f0fa11"
      },
      "execution_count": 5,
      "outputs": [
        {
          "output_type": "stream",
          "name": "stdout",
          "text": [
            "[1, 2, 1, 2, 1, 2, 1, 2, 1, 2]\n"
          ]
        }
      ]
    },
    {
      "cell_type": "markdown",
      "source": [
        "list取值"
      ],
      "metadata": {
        "id": "AVNBQfClqNJI"
      }
    },
    {
      "cell_type": "code",
      "source": [
        "a=[1,2,3,4,5,6,7,8,9]\n",
        "b=a[0:3] #範圍取值，0,1,2不包含3\n",
        "print(b)\n",
        "c=a[0:9:2] #間隔2取值\n",
        "print(c)\n",
        "d = a[0: ]\n",
        "print(d)\n",
        "e = a[ :9]\n",
        "print(e)\n",
        "f = a[:] #取全部值\n",
        "print(f)"
      ],
      "metadata": {
        "colab": {
          "base_uri": "https://localhost:8080/"
        },
        "id": "ZPSNC5K8qOrC",
        "outputId": "29d71a91-b222-4f14-fc4c-00da2d250229"
      },
      "execution_count": 6,
      "outputs": [
        {
          "output_type": "stream",
          "name": "stdout",
          "text": [
            "[1, 2, 3]\n",
            "[1, 3, 5, 7, 9]\n",
            "[1, 2, 3, 4, 5, 6, 7, 8, 9]\n",
            "[1, 2, 3, 4, 5, 6, 7, 8, 9]\n",
            "[1, 2, 3, 4, 5, 6, 7, 8, 9]\n"
          ]
        }
      ]
    },
    {
      "cell_type": "code",
      "source": [
        "a=[1,2,3,4,5,6,7,8,9]\n",
        "del a[7:9] #刪除某範圍值,7,8\n",
        "print(a)\n",
        "print(min(a)) #最小值\n",
        "print(max(a)) #最大值\n",
        "print(a.index(1)) #找出1所在的第一個索引值\n",
        "b=[1,0,0,1,1,1]\n",
        "print(b.count(1)) #1出現的次數\n",
        "a.reverse() #串列反轉\n",
        "print(a)\n",
        "a.sort() #串列由小到大排序,a的值會被改變\n",
        "print(a)"
      ],
      "metadata": {
        "colab": {
          "base_uri": "https://localhost:8080/"
        },
        "id": "LLPWEqRLqQyg",
        "outputId": "140c7de3-1b83-45bd-9c84-7a618f140e12"
      },
      "execution_count": 8,
      "outputs": [
        {
          "output_type": "stream",
          "name": "stdout",
          "text": [
            "[1, 2, 3, 4, 5, 6, 7]\n",
            "1\n",
            "7\n",
            "0\n",
            "4\n",
            "[7, 6, 5, 4, 3, 2, 1]\n",
            "[1, 2, 3, 4, 5, 6, 7]\n"
          ]
        }
      ]
    },
    {
      "cell_type": "code",
      "source": [
        "expenses = [1138, 101, 12, 300, 2049]\n",
        "s=sorted(expenses) #expenses的值不會變 #sorted對所有可用於的對象進行排序\n",
        "print(s,expenses)"
      ],
      "metadata": {
        "colab": {
          "base_uri": "https://localhost:8080/"
        },
        "id": "PE-Zpb9-qSjw",
        "outputId": "136f6307-af00-426d-9426-bb07897b02f6"
      },
      "execution_count": 7,
      "outputs": [
        {
          "output_type": "stream",
          "name": "stdout",
          "text": [
            "[12, 101, 300, 1138, 2049] [1138, 101, 12, 300, 2049]\n"
          ]
        }
      ]
    }
  ]
}