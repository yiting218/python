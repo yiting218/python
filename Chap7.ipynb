{
  "nbformat": 4,
  "nbformat_minor": 0,
  "metadata": {
    "colab": {
      "name": "Chap7.ipynb",
      "provenance": [],
      "collapsed_sections": []
    },
    "kernelspec": {
      "name": "python3",
      "display_name": "Python 3"
    },
    "language_info": {
      "name": "python"
    }
  },
  "cells": [
    {
      "cell_type": "markdown",
      "source": [
        "#錯誤處理\n",
        "try:<br>\n",
        "(需要檢測的程式碼)<br>\n",
        "except:<br>\n",
        "(錯誤時的處理方法)<br>\n",
        "else:<br>\n",
        "(如果沒有產生錯誤的處理方法)<br>\n",
        "finally:<br>\n",
        "(不管錯誤或執行正確，皆會進入的處理方法)"
      ],
      "metadata": {
        "id": "KDxg77BeJZ11"
      }
    },
    {
      "cell_type": "code",
      "execution_count": 6,
      "metadata": {
        "id": "A_6WwZuiJOPV",
        "colab": {
          "base_uri": "https://localhost:8080/",
          "height": 202
        },
        "outputId": "df1110d0-30f3-4e49-c419-d66060df78c8"
      },
      "outputs": [
        {
          "output_type": "error",
          "ename": "NameError",
          "evalue": "ignored",
          "traceback": [
            "\u001b[0;31m---------------------------------------------------------------------------\u001b[0m",
            "\u001b[0;31mNameError\u001b[0m                                 Traceback (most recent call last)",
            "\u001b[0;32m<ipython-input-6-7dfa81e715b4>\u001b[0m in \u001b[0;36m<module>\u001b[0;34m()\u001b[0m\n\u001b[1;32m      2\u001b[0m \u001b[0mb\u001b[0m\u001b[0;34m=\u001b[0m\u001b[0;36m10\u001b[0m\u001b[0;34m\u001b[0m\u001b[0;34m\u001b[0m\u001b[0m\n\u001b[1;32m      3\u001b[0m \u001b[0;32mif\u001b[0m \u001b[0ma\u001b[0m\u001b[0;34m<\u001b[0m\u001b[0mb\u001b[0m\u001b[0;34m:\u001b[0m \u001b[0;31m#沒有錯誤檢測，就不會執行程式碼\u001b[0m\u001b[0;34m\u001b[0m\u001b[0;34m\u001b[0m\u001b[0m\n\u001b[0;32m----> 4\u001b[0;31m   \u001b[0mprint\u001b[0m\u001b[0;34m(\u001b[0m\u001b[0mn\u001b[0m\u001b[0;34m)\u001b[0m\u001b[0;34m\u001b[0m\u001b[0;34m\u001b[0m\u001b[0m\n\u001b[0m",
            "\u001b[0;31mNameError\u001b[0m: name 'n' is not defined"
          ]
        }
      ],
      "source": [
        "a=5\n",
        "b=10\n",
        "if a<b: #沒有錯誤檢測，就不會執行程式碼\n",
        "  print(n)"
      ]
    },
    {
      "cell_type": "code",
      "source": [
        "a=10\n",
        "b=20\n",
        "try: #需要檢測的程式碼\n",
        "    if a<b: \n",
        "        print(n) #因為n沒有定義所以有錯誤\n",
        "except: #錯誤時的處理方法\n",
        "    print(\"錯誤產生\")"
      ],
      "metadata": {
        "colab": {
          "base_uri": "https://localhost:8080/"
        },
        "id": "RWeSGXiMMkar",
        "outputId": "18f01698-844c-43dd-c255-73aef237d2b2"
      },
      "execution_count": 2,
      "outputs": [
        {
          "output_type": "stream",
          "name": "stdout",
          "text": [
            "錯誤產生\n"
          ]
        }
      ]
    },
    {
      "cell_type": "code",
      "source": [
        "try: #需要檢測的程式碼\n",
        "  a=5\n",
        "  b=10\n",
        "  if a<b:\n",
        "    print(n) #因為n沒有定義\n",
        "except NameError: #沒有定義n所以是名稱錯誤\n",
        "  print(\"名稱錯誤\")\n",
        "except ZeroDivisionError: #運算時錯誤\n",
        "  print(\"除以0錯誤\")\n",
        "except:\n",
        "  print(\"錯誤產生\")\n",
        "else: #如果沒有產生錯誤的處理方法\n",
        "  print(\"程式正確沒有錯誤\")\n",
        "finally: #不管錯誤或執行正確，皆會進入的處理方法\n",
        "  print(\"程式結束\")"
      ],
      "metadata": {
        "colab": {
          "base_uri": "https://localhost:8080/"
        },
        "id": "NmIIyoucKZq3",
        "outputId": "58b5a66a-e220-44d5-f95a-ae8f26971bd7"
      },
      "execution_count": null,
      "outputs": [
        {
          "output_type": "stream",
          "name": "stdout",
          "text": [
            "名稱錯誤\n",
            "程式結束\n"
          ]
        }
      ]
    },
    {
      "cell_type": "markdown",
      "source": [
        "#指定錯誤類別處理"
      ],
      "metadata": {
        "id": "OwVXhxr8Oiiy"
      }
    },
    {
      "cell_type": "code",
      "source": [
        "a=10\n",
        "b=20\n",
        "try:\n",
        "    if a<b:\n",
        "        print(n)\n",
        "except NameError as e: #如果是名稱錯誤 #就顯示錯誤並說明錯誤原因\n",
        "    print(\"錯誤產生, 錯誤原因：\",e)\n",
        "except ZeroDivisionError:\n",
        "    print(\"除以0錯誤\")"
      ],
      "metadata": {
        "colab": {
          "base_uri": "https://localhost:8080/"
        },
        "id": "LomMUF0vOlna",
        "outputId": "713439e8-68dd-4429-b162-00da2ea0d31e"
      },
      "execution_count": 3,
      "outputs": [
        {
          "output_type": "stream",
          "name": "stdout",
          "text": [
            "錯誤產生, 錯誤原因： name 'n' is not defined\n"
          ]
        }
      ]
    },
    {
      "cell_type": "markdown",
      "source": [
        "#else\n",
        "沒有錯誤產生會執行的部分"
      ],
      "metadata": {
        "id": "IdLWOEDxPAhr"
      }
    },
    {
      "cell_type": "code",
      "source": [
        "a=10\n",
        "b=20\n",
        "try:\n",
        "    if a>b: #改變比較條件，讓錯誤不發生\n",
        "        print(n)\n",
        "except: #錯誤時的處理方法\n",
        "    print(\"錯誤發生\")\n",
        "else: #如果沒有產生錯誤的處理方法\n",
        "    print(\"沒有錯誤發生時會執行的部分\")"
      ],
      "metadata": {
        "colab": {
          "base_uri": "https://localhost:8080/"
        },
        "id": "AHZwf-eSPGKA",
        "outputId": "416720d1-4226-4056-c2cd-8a8fbf6fdcf5"
      },
      "execution_count": 4,
      "outputs": [
        {
          "output_type": "stream",
          "name": "stdout",
          "text": [
            "沒有錯誤發生時會執行的部分\n"
          ]
        }
      ]
    },
    {
      "cell_type": "code",
      "source": [
        "a=10\n",
        "b=20\n",
        "try:\n",
        "    if a>b: #改變比較條件，讓錯誤不發生\n",
        "        print(n)\n",
        "except: #錯誤時的處理方法\n",
        "    print(\"錯誤發生\")\n",
        "else: #如果沒有產生錯誤的處理方法\n",
        "    print(\"沒有錯誤發生時會執行的部分\")\n",
        "finally: #不管錯誤或執行正確，皆會進入的處理方法\n",
        "    print(\"不管有沒有錯誤一定會執行的部分\")"
      ],
      "metadata": {
        "colab": {
          "base_uri": "https://localhost:8080/"
        },
        "id": "OL-8QlUlPVjB",
        "outputId": "99012f08-5262-4349-9e1b-559557d980c7"
      },
      "execution_count": 5,
      "outputs": [
        {
          "output_type": "stream",
          "name": "stdout",
          "text": [
            "沒有錯誤發生時會執行的部分\n",
            "不管有沒有錯誤一定會執行的部分\n"
          ]
        }
      ]
    }
  ]
}