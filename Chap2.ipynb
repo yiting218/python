{
  "nbformat": 4,
  "nbformat_minor": 0,
  "metadata": {
    "colab": {
      "name": "Chap2.ipynb",
      "provenance": [],
      "collapsed_sections": []
    },
    "kernelspec": {
      "name": "python3",
      "display_name": "Python 3"
    },
    "language_info": {
      "name": "python"
    }
  },
  "cells": [
    {
      "cell_type": "markdown",
      "source": [
        "##Chap2流程控制"
      ],
      "metadata": {
        "id": "i3SHE-hxGmNc"
      }
    },
    {
      "cell_type": "markdown",
      "source": [
        "- if else , elif"
      ],
      "metadata": {
        "id": "CpA43LQpGpKk"
      }
    },
    {
      "cell_type": "code",
      "source": [
        "a=4\n",
        "b=3\n",
        "if a>b: #如果a>b執行下列兩行\n",
        " print(\"a>b\")\n",
        " print(\"4>3\")"
      ],
      "metadata": {
        "colab": {
          "base_uri": "https://localhost:8080/"
        },
        "id": "HylFgKRtG6ux",
        "outputId": "37bb821c-1e4d-49b9-874d-ec7103f970f5"
      },
      "execution_count": null,
      "outputs": [
        {
          "output_type": "stream",
          "name": "stdout",
          "text": [
            "a>b\n",
            "4>3\n"
          ]
        }
      ]
    },
    {
      "cell_type": "code",
      "execution_count": null,
      "metadata": {
        "colab": {
          "base_uri": "https://localhost:8080/"
        },
        "id": "VXxHNqJ2GhR1",
        "outputId": "2c8a361d-88fb-4319-b985-0e5553431423"
      },
      "outputs": [
        {
          "output_type": "stream",
          "name": "stdout",
          "text": [
            "b是比較大的數字\n"
          ]
        }
      ],
      "source": [
        "a=3\n",
        "b=4\n",
        "if a <= b: #如果a<=b執行\n",
        "  print(\"b是比較大的數字\")\n",
        "else: #否則執行這行\n",
        "  print(\"a是比較大的數字\")"
      ]
    },
    {
      "cell_type": "code",
      "source": [
        "for i in range(10):  #從0開始到9\n",
        "  print(i)\n",
        "for i in range(0,10,1): #從0開始每次加1 10個數字就停止\n",
        "  print(i)"
      ],
      "metadata": {
        "colab": {
          "base_uri": "https://localhost:8080/"
        },
        "id": "lT8xWfgiHT-F",
        "outputId": "8dc422e1-155a-4746-ecf5-0664e1e749f1"
      },
      "execution_count": null,
      "outputs": [
        {
          "output_type": "stream",
          "name": "stdout",
          "text": [
            "0\n",
            "1\n",
            "2\n",
            "3\n",
            "4\n",
            "5\n",
            "6\n",
            "7\n",
            "8\n",
            "9\n",
            "0\n",
            "1\n",
            "2\n",
            "3\n",
            "4\n",
            "5\n",
            "6\n",
            "7\n",
            "8\n",
            "9\n"
          ]
        }
      ]
    },
    {
      "cell_type": "markdown",
      "source": [
        "成績評鑑"
      ],
      "metadata": {
        "id": "jdb-dFacItjy"
      }
    },
    {
      "cell_type": "code",
      "source": [
        "grade=87 #87>80顯示甲等\n",
        "print(\"成績評鑑：\")  \n",
        "if grade >= 90: #如果成績>90 顯示優等\n",
        "  print(\"優等\")\n",
        "elif grade >=80: #如果成績>=80 顯示甲等   \n",
        "  print(\"甲等\") \n",
        "elif grade >=70: #如果成績>=70 顯示乙等\n",
        "  print(\"乙等\")\n",
        "elif grade >=60: #如果成績>=60 顯示丙等\n",
        "  print(\"丙等\")\n",
        "else: #否則成績60以下顯示不及格\n",
        "  print(\"不及格\")"
      ],
      "metadata": {
        "colab": {
          "base_uri": "https://localhost:8080/"
        },
        "id": "SBavRtoYIrsN",
        "outputId": "98918aca-ea9a-4adb-d576-c88f2d74ac5d"
      },
      "execution_count": null,
      "outputs": [
        {
          "output_type": "stream",
          "name": "stdout",
          "text": [
            "成績評鑑：\n",
            "甲等\n"
          ]
        }
      ]
    },
    {
      "cell_type": "markdown",
      "source": [
        "for迴圈"
      ],
      "metadata": {
        "id": "vhEQIvQzJ5NV"
      }
    },
    {
      "cell_type": "code",
      "source": [
        "#1+2+3...+10總和\n",
        "sum = 0 #count計算次數\n",
        "for count in range(1, 11, 1): #從1開始，間隔1, 不包含11\n",
        "  sum += count\n",
        "print(\"1+2+3+...+10 =\", sum)"
      ],
      "metadata": {
        "colab": {
          "base_uri": "https://localhost:8080/"
        },
        "id": "YHpHSm0qJ2Mo",
        "outputId": "549fe6a1-c74f-48d7-8b30-ff6ab6482198"
      },
      "execution_count": null,
      "outputs": [
        {
          "output_type": "stream",
          "name": "stdout",
          "text": [
            "1+2+3+...+10 = 55\n"
          ]
        }
      ]
    },
    {
      "cell_type": "code",
      "source": [
        "#range另外一種寫法\n",
        "#1+2+3...+10總和\n",
        "sum = 0\n",
        "for count in range(11): #1到10, 不包含11\n",
        "  sum += count\n",
        "print(\"1+2+3+...+10 =\", sum)"
      ],
      "metadata": {
        "colab": {
          "base_uri": "https://localhost:8080/"
        },
        "id": "7q4JikDjK_bI",
        "outputId": "dd14576b-4315-4061-9b87-531cd834bf86"
      },
      "execution_count": null,
      "outputs": [
        {
          "output_type": "stream",
          "name": "stdout",
          "text": [
            "1+2+3+...+10 = 55\n"
          ]
        }
      ]
    },
    {
      "cell_type": "code",
      "source": [
        "mylist=\"for statement\" #List串列 \n",
        "for c in mylist: #因為是迴圈所以會換行\n",
        "  print(c) #in的後面則可接一個序列\n",
        "print(\"end list\")\n",
        "#串列list裡的元素並不限於數字，也可以是文字或物件"
      ],
      "metadata": {
        "colab": {
          "base_uri": "https://localhost:8080/"
        },
        "id": "yffkSUmYLV87",
        "outputId": "811ff653-835a-4702-bc25-be4fb4ce0741"
      },
      "execution_count": null,
      "outputs": [
        {
          "output_type": "stream",
          "name": "stdout",
          "text": [
            "f\n",
            "o\n",
            "r\n",
            " \n",
            "s\n",
            "t\n",
            "a\n",
            "t\n",
            "e\n",
            "m\n",
            "e\n",
            "n\n",
            "t\n",
            "end list\n"
          ]
        }
      ]
    },
    {
      "cell_type": "code",
      "source": [
        "for pl in [\"Java\", \"C#\", \"Python\"]: #List串列使用中括號[]將數字、文字等元素包起來  \n",
        "  print(pl) #將list中的序列性資料逐一列印出來\n",
        "#串列list裡的元素並不限於數字，也可以是文字或物件"
      ],
      "metadata": {
        "id": "UmdV2efFM2NB",
        "colab": {
          "base_uri": "https://localhost:8080/"
        },
        "outputId": "c8521c9b-f4ad-4803-9e2d-43ceafbb2489"
      },
      "execution_count": null,
      "outputs": [
        {
          "output_type": "stream",
          "name": "stdout",
          "text": [
            "Java\n",
            "C#\n",
            "Python\n"
          ]
        }
      ]
    },
    {
      "cell_type": "code",
      "source": [
        "for c in \"I am a boy\":  #in的後面則可接一個序列\n",
        "  print(c)\n",
        "for p in [\"java\",\"python\",\"c#\"]: #List串列使用中括號[]將數字、文字等元素包起來\n",
        "  print(p)\n",
        "#串列list裡的元素並不限於數字，也可以是文字或物件"
      ],
      "metadata": {
        "id": "hdqIUw2pM3DA",
        "colab": {
          "base_uri": "https://localhost:8080/"
        },
        "outputId": "3ae74d2c-f4a3-4cb9-afbf-6df0a1c25b19"
      },
      "execution_count": null,
      "outputs": [
        {
          "output_type": "stream",
          "name": "stdout",
          "text": [
            "I\n",
            " \n",
            "a\n",
            "m\n",
            " \n",
            "a\n",
            " \n",
            "b\n",
            "o\n",
            "y\n",
            "java\n",
            "python\n",
            "c#\n"
          ]
        }
      ]
    },
    {
      "cell_type": "markdown",
      "source": [
        "雞兔同籠，若共有35個頭，94隻腳，請問有幾隻雞?幾隻兔?"
      ],
      "metadata": {
        "id": "J3R69u6pM6D4"
      }
    },
    {
      "cell_type": "code",
      "source": [
        "for chicken in range(0,36): #for迴圈需要在一定的範圍內\n",
        "  rabbit=35-chicken   #if只存在執行一次或不執行的狀況\n",
        "  if (2*chicken+4*rabbit) == 94: #如果算出答案==94就執行下列\n",
        "    print(\"雞有\",chicken,\"隻,兔子有\",rabbit,\"隻\")  \n",
        "    break #強制跳出整個迴圈\n",
        "else: #否則執行下列\n",
        "  print(\"無解\")"
      ],
      "metadata": {
        "id": "XtfZ34XyM6x_",
        "colab": {
          "base_uri": "https://localhost:8080/"
        },
        "outputId": "2336d2df-210d-4a3a-ae67-8b51e1b1f7b8"
      },
      "execution_count": null,
      "outputs": [
        {
          "output_type": "stream",
          "name": "stdout",
          "text": [
            "雞有 23 隻,兔子有 12 隻\n"
          ]
        }
      ]
    },
    {
      "cell_type": "markdown",
      "source": [
        "while迴圈"
      ],
      "metadata": {
        "id": "CKj1C8MUM-q-"
      }
    },
    {
      "cell_type": "code",
      "source": [
        "sum=0\n",
        "count=1\n",
        "while count <=10: #while迴圈，當陳述的條件成立，便會一直執行的迴圈\n",
        "  sum += count #直到條件不成立才退出\n",
        "  count += 1\n",
        "print(\"1+2+3+...+10=\",sum) #印出結果"
      ],
      "metadata": {
        "id": "dopJCYwlM9jm",
        "colab": {
          "base_uri": "https://localhost:8080/"
        },
        "outputId": "daa0a8ca-7f6c-47fa-987e-c6c2ee2352c5"
      },
      "execution_count": null,
      "outputs": [
        {
          "output_type": "stream",
          "name": "stdout",
          "text": [
            "1+2+3+...+10= 55\n"
          ]
        }
      ]
    },
    {
      "cell_type": "code",
      "source": [
        "i=1\n",
        "sum=0   #1到10\n",
        "while i<11:  #while迴圈，當陳述的條件成立，便會一直執行的迴圈\n",
        "  sum+=i   #直到條件不成立才退出\n",
        "  i+=1\n",
        "print(sum) #印出結果"
      ],
      "metadata": {
        "id": "_mJwnK_pNE1q",
        "colab": {
          "base_uri": "https://localhost:8080/"
        },
        "outputId": "775ab163-5f4c-4eb6-858b-e535df417ce7"
      },
      "execution_count": null,
      "outputs": [
        {
          "output_type": "stream",
          "name": "stdout",
          "text": [
            "55\n"
          ]
        }
      ]
    },
    {
      "cell_type": "markdown",
      "source": [
        "本金10000元，定存年利率0.6%，請問多久銀行存款會翻倍"
      ],
      "metadata": {
        "id": "ryIyB-7YNGqx"
      }
    },
    {
      "cell_type": "code",
      "source": [
        "x=10000\n",
        "years=0\n",
        "while x <= 20000: #while迴圈，當陳述的條件成立，便會一直執行的迴圈\n",
        "  x=x*1.006    #直到條件不成立才退出\n",
        "  years += 1\n",
        "print(str(years), \"年以後，存款加倍，為\", int(x),\"元\") #印出結果"
      ],
      "metadata": {
        "id": "ZADCu2apNIYw",
        "colab": {
          "base_uri": "https://localhost:8080/"
        },
        "outputId": "adbba1ff-934d-4bc8-ccd5-fd5881e3533c"
      },
      "execution_count": null,
      "outputs": [
        {
          "output_type": "stream",
          "name": "stdout",
          "text": [
            "116 年以後，存款加倍，為 20015 元\n"
          ]
        }
      ]
    },
    {
      "cell_type": "markdown",
      "source": [
        "帳號密碼判斷"
      ],
      "metadata": {
        "id": "LCc6jisNNKRF"
      }
    },
    {
      "cell_type": "code",
      "source": [
        "id=\"tony\"\n",
        "pwd=\"1234\"\n",
        "while True:  #設定帳號密碼\n",
        "  x=input(\"請輸入帳號：\")  \n",
        "  y=input(\"請輸入密碼：\")\n",
        "  if (x==id and y==pwd): #輸入帳號密碼\n",
        "    print(\"歡迎登入\")  #都輸入正確就顯示歡迎登入\n",
        "    break\n",
        "  else: #輸入錯誤就顯示帳號密碼輸入錯誤\n",
        "    print(\"帳號或密碼輸入錯誤\")"
      ],
      "metadata": {
        "colab": {
          "base_uri": "https://localhost:8080/"
        },
        "id": "tAJZ0f1biwjK",
        "outputId": "700a25e1-57da-4f7c-b896-ce790ce94615"
      },
      "execution_count": null,
      "outputs": [
        {
          "output_type": "stream",
          "name": "stdout",
          "text": [
            "請輸入帳號：fjioe\n",
            "請輸入密碼：soiov\n",
            "帳號或密碼輸入錯誤\n",
            "請輸入帳號：tony\n",
            "請輸入密碼：1234\n",
            "歡迎登入\n"
          ]
        }
      ]
    },
    {
      "cell_type": "markdown",
      "source": [
        "亂數"
      ],
      "metadata": {
        "id": "GxQxSibENOFA"
      }
    },
    {
      "cell_type": "code",
      "source": [
        "import random #random產生隨機亂數\n",
        "for i in range(0,10):  #從1到10中隨機跳出10個\n",
        "  print(random.randint(1,9))"
      ],
      "metadata": {
        "id": "E4TL89-VNPug",
        "colab": {
          "base_uri": "https://localhost:8080/"
        },
        "outputId": "7a27451e-3a00-45ad-8dd2-24bee726eda8"
      },
      "execution_count": null,
      "outputs": [
        {
          "output_type": "stream",
          "name": "stdout",
          "text": [
            "8\n",
            "1\n",
            "3\n",
            "5\n",
            "2\n",
            "9\n",
            "2\n",
            "7\n",
            "3\n",
            "3\n"
          ]
        }
      ]
    },
    {
      "cell_type": "markdown",
      "source": [
        "猜數字"
      ],
      "metadata": {
        "id": "UpYWQ9NcNQ9e"
      }
    },
    {
      "cell_type": "code",
      "source": [
        "import random #random隨機產生亂數\n",
        "number=random.randint(1,20) #範圍是1到20之間 \n",
        "while True:\n",
        "  guess=int(input(\"請輸入1~20之間的數字-->\"))\n",
        "  if guess == number: #猜對顯示猜對\n",
        "    print(\"你猜對了，數字是\", number)\n",
        "    break\n",
        "  else: #猜錯顯示錯誤重新回到while迴圈\n",
        "    print(\"你猜錯了\")"
      ],
      "metadata": {
        "colab": {
          "base_uri": "https://localhost:8080/"
        },
        "id": "ps2mg1lci0P4",
        "outputId": "54876eb3-89c9-4fef-a5f4-83b3341393aa"
      },
      "execution_count": null,
      "outputs": [
        {
          "output_type": "stream",
          "name": "stdout",
          "text": [
            "請輸入1~20之間的數字-->1\n",
            "你猜錯了\n",
            "請輸入1~20之間的數字-->2\n",
            "你猜錯了\n",
            "請輸入1~20之間的數字-->3\n",
            "你猜錯了\n",
            "請輸入1~20之間的數字-->4\n",
            "你猜錯了\n",
            "請輸入1~20之間的數字-->5\n",
            "你猜錯了\n",
            "請輸入1~20之間的數字-->6\n",
            "你猜錯了\n",
            "請輸入1~20之間的數字-->7\n",
            "你猜錯了\n",
            "請輸入1~20之間的數字-->8\n",
            "你猜錯了\n",
            "請輸入1~20之間的數字-->9\n",
            "你猜錯了\n",
            "請輸入1~20之間的數字-->10\n",
            "你猜錯了\n",
            "請輸入1~20之間的數字-->11\n",
            "你猜錯了\n",
            "請輸入1~20之間的數字-->12\n",
            "你猜錯了\n",
            "請輸入1~20之間的數字-->13\n",
            "你猜錯了\n",
            "請輸入1~20之間的數字-->14\n",
            "你猜錯了\n",
            "請輸入1~20之間的數字-->15\n",
            "你猜錯了\n",
            "請輸入1~20之間的數字-->16\n",
            "你猜對了，數字是 16\n"
          ]
        }
      ]
    }
  ]
}