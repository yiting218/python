{
  "nbformat": 4,
  "nbformat_minor": 0,
  "metadata": {
    "colab": {
      "name": "Chap5.ipynb",
      "provenance": [],
      "collapsed_sections": []
    },
    "kernelspec": {
      "name": "python3",
      "display_name": "Python 3"
    },
    "language_info": {
      "name": "python"
    }
  },
  "cells": [
    {
      "cell_type": "markdown",
      "source": [
        "#函式\n",
        "- 獨立的一組程式碼，可以重複使用\n",
        "- 通常可以有0-多個輸入參數，0-1個輸出\n",
        "- 函式輸入參數可以有預設值"
      ],
      "metadata": {
        "id": "RqhrcFLs6l3N"
      }
    },
    {
      "cell_type": "code",
      "execution_count": null,
      "metadata": {
        "colab": {
          "base_uri": "https://localhost:8080/"
        },
        "id": "Z_LmvwBp6g2p",
        "outputId": "54b5851d-67f8-4376-865a-2fa8ca9e0d9e"
      },
      "outputs": [
        {
          "output_type": "stream",
          "name": "stdout",
          "text": [
            "請輸入圓的半徑: 5\n",
            "圓的面積為:  78.53981633974483\n"
          ]
        }
      ],
      "source": [
        "#傳統的程式寫法\n",
        "import math #數學函式\n",
        "radius=eval(input(\"請輸入圓的半徑: \")) #eval一個字符串表達式\n",
        "area=radius * radius * math.pi #math.pi 數學常數π=3.141592...\n",
        "print(\"圓的面積為: \",area)"
      ]
    },
    {
      "cell_type": "code",
      "source": [
        "import math #數學函式\n",
        "def circle_area(radius): #def定義函式來封裝程式片段，引用不同數值或變數的部份設計為參數\n",
        "  area=radius * radius * math.pi\n",
        "  return area\n",
        "\n",
        "print(circle_area(10)) #圓的半徑是10，計算面積\n",
        "print(circle_area(5)) #圓的半徑是5，計算面積"
      ],
      "metadata": {
        "colab": {
          "base_uri": "https://localhost:8080/"
        },
        "id": "VBEmOy9M-Nom",
        "outputId": "c8d8b7a1-9ed7-45f6-9bc1-abebaf5ad806"
      },
      "execution_count": null,
      "outputs": [
        {
          "output_type": "stream",
          "name": "stdout",
          "text": [
            "314.1592653589793\n",
            "78.53981633974483\n"
          ]
        }
      ]
    }
  ]
}