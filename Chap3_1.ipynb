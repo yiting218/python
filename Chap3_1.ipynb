{
  "nbformat": 4,
  "nbformat_minor": 0,
  "metadata": {
    "colab": {
      "name": "Chap3-1.ipynb",
      "provenance": [],
      "collapsed_sections": []
    },
    "kernelspec": {
      "name": "python3",
      "display_name": "Python 3"
    },
    "language_info": {
      "name": "python"
    }
  },
  "cells": [
    {
      "cell_type": "markdown",
      "source": [
        "##Tuple (元組)\n",
        " tuple(元組)可視為不可改變的串列，tuple跟list很像，但是我們不能新增、刪除或更新tuple的元素。tuple的好處有：\n",
        "\n",
        " 1.佔用較少空間\n",
        "\n",
        " 2.可當作dictionary(字典)的鍵值\n",
        " \n",
        " 3.可當作函式引數"
      ],
      "metadata": {
        "id": "6-03du3LPRvm"
      }
    },
    {
      "cell_type": "code",
      "execution_count": null,
      "metadata": {
        "colab": {
          "base_uri": "https://localhost:8080/"
        },
        "id": "JqwSdV0wG5Mb",
        "outputId": "0a4bb2cd-c505-4fdc-aa35-4aef35d0b1d3"
      },
      "outputs": [
        {
          "output_type": "stream",
          "name": "stdout",
          "text": [
            "('python', 'js', 'SQL')\n",
            "('go', 'c#', 'vb')\n",
            "c#\n"
          ]
        }
      ],
      "source": [
        "a_tuple=('python','js','SQL')\n",
        "print(a_tuple)\n",
        "b_list=['go','c#','vb']\n",
        "b_tuple=tuple(b_list) #tuple像是不能修改list\n",
        "print(b_tuple)\n",
        "print(b_tuple[1]) "
      ]
    },
    {
      "cell_type": "markdown",
      "source": [
        "#字典(dictionary-dict)為帶有鍵值(key)的串列(list)"
      ],
      "metadata": {
        "id": "d66CJFDrHbh8"
      }
    },
    {
      "cell_type": "code",
      "source": [
        "a_dict={0:'go',1:'c#',2:'vb'} #索引值(鍵值)可以自訂\n",
        "print(a_dict)\n",
        "print(a_dict[0]) \n",
        "b_dict={'name':'tony','sex':'Male','sid':'B09000000'}\n",
        "print(b_dict['sid']) #叫出與索引值相對應的值"
      ],
      "metadata": {
        "colab": {
          "base_uri": "https://localhost:8080/"
        },
        "id": "5LDDwS1mHuy0",
        "outputId": "e16bef8d-55aa-4d31-a31c-8c9eff178953"
      },
      "execution_count": null,
      "outputs": [
        {
          "output_type": "stream",
          "name": "stdout",
          "text": [
            "{0: 'go', 1: 'c#', 2: 'vb'}\n",
            "go\n",
            "B09000000\n"
          ]
        }
      ]
    },
    {
      "cell_type": "code",
      "source": [
        "languages={}\n",
        "languages={'name':'python','version':'3.7'} #索引值(鍵值)可以自訂\n",
        "print(languages['name'])\n",
        "print(languages['version'])\n",
        "a={0:'python', 1:'java', 2:'SQL'}\n",
        "print(a[0])\n",
        "print(a[1])\n",
        "print(a[2])\n",
        "print(languages) #沒有打索引值就是全部叫出來\n",
        "print(languages.keys()) #keys索引鍵值\n",
        "print(languages.values()) #values值\n",
        "print(languages.items()) #items可列出(鍵，值)\n",
        "print('name' in languages)"
      ],
      "metadata": {
        "id": "WZcxJldtLEwl",
        "colab": {
          "base_uri": "https://localhost:8080/"
        },
        "outputId": "c6cd6a3f-48e8-4f7f-99b8-b10ee638cb29"
      },
      "execution_count": null,
      "outputs": [
        {
          "output_type": "stream",
          "name": "stdout",
          "text": [
            "python\n",
            "3.7\n",
            "python\n",
            "java\n",
            "SQL\n",
            "{'name': 'python', 'version': '3.7'}\n",
            "dict_keys(['name', 'version'])\n",
            "dict_values(['python', '3.7'])\n",
            "dict_items([('name', 'python'), ('version', '3.7')])\n",
            "True\n"
          ]
        }
      ]
    }
  ]
}